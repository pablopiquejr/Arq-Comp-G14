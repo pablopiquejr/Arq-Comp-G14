{
  "nbformat": 4,
  "nbformat_minor": 0,
  "metadata": {
    "colab": {
      "provenance": []
    },
    "kernelspec": {
      "name": "python3",
      "display_name": "Python 3"
    },
    "language_info": {
      "name": "python"
    }
  },
  "cells": [
    {
      "cell_type": "markdown",
      "source": [
        "Script Práctica 2 Parte 1 (MLP)\n",
        "\n",
        "Redes de Neuronas Artificiales, curso 2023-2024\n",
        "\n",
        "Universidad Carlos III de Madrid\n",
        "\n",
        "# Importar TensorFlow, ciertos módulos de Keras y las librerías numpy y pandas."
      ],
      "metadata": {
        "id": "QZWZO686moZ4"
      }
    },
    {
      "cell_type": "code",
      "execution_count": null,
      "metadata": {
        "id": "SLyQB4VsVp4L"
      },
      "outputs": [],
      "source": [
        "import tensorflow as tf\n",
        "import numpy as np\n",
        "import pandas as pd\n",
        "from keras.models import Sequential\n",
        "from keras.layers import Dense\n",
        "from keras.layers import Dropout\n",
        "from tensorflow.keras.utils import to_categorical\n",
        "from sklearn.metrics import confusion_matrix, classification_report\n",
        "\n",
        "#from tensorflow.keras import datasets, layers, models\n",
        "#import matplotlib.pyplot as plt\n",
        "\n"
      ]
    },
    {
      "cell_type": "markdown",
      "source": [
        "Para trabajar con un repositorio almacenado en drive"
      ],
      "metadata": {
        "id": "aw0FoGjvpYH8"
      }
    },
    {
      "cell_type": "code",
      "source": [
        "# mount drive\n",
        "from google.colab import drive\n",
        "drive.mount('/content/drive/', force_remount=True)\n",
        "\n",
        "# Abrir el path concreto\n",
        "#!ls\n",
        "\n",
        "#%cd \"/content/drive/MyDrive/RN/Practica1/parte1\"\n",
        "\n",
        "#!ls"
      ],
      "metadata": {
        "colab": {
          "base_uri": "https://localhost:8080/"
        },
        "id": "ckJ9C420nXC_",
        "outputId": "12db1307-a60e-4494-a79d-6481a8facf9b"
      },
      "execution_count": null,
      "outputs": [
        {
          "output_type": "stream",
          "name": "stdout",
          "text": [
            "Mounted at /content/drive/\n"
          ]
        }
      ]
    },
    {
      "cell_type": "code",
      "source": [
        "# leer best model\n",
        "pathSavedModel = path+\"bestmodel\"+\"/\"\n",
        "bestModel = tf.keras.models.load_model(pathSavedModel)\n",
        "bestModel.summary()"
      ],
      "metadata": {
        "colab": {
          "base_uri": "https://localhost:8080/"
        },
        "id": "_WsAvu9OB-Er",
        "outputId": "112aae69-f24f-4f58-c51f-a2082c4eb421"
      },
      "execution_count": null,
      "outputs": [
        {
          "output_type": "stream",
          "name": "stdout",
          "text": [
            "Model: \"sequential\"\n",
            "_________________________________________________________________\n",
            " Layer (type)                Output Shape              Param #   \n",
            "=================================================================\n",
            " dense (Dense)               (None, 50)                1100      \n",
            "                                                                 \n",
            " dense_1 (Dense)             (None, 3)                 153       \n",
            "                                                                 \n",
            "=================================================================\n",
            "Total params: 1,253\n",
            "Trainable params: 1,253\n",
            "Non-trainable params: 0\n",
            "_________________________________________________________________\n"
          ]
        }
      ]
    },
    {
      "cell_type": "code",
      "source": [
        "bestModel.summary()\n"
      ],
      "metadata": {
        "colab": {
          "base_uri": "https://localhost:8080/"
        },
        "id": "Q8yncByUFRo0",
        "outputId": "b5e2eb3d-cd21-4919-bb16-ca6d80a95679"
      },
      "execution_count": null,
      "outputs": [
        {
          "output_type": "stream",
          "name": "stdout",
          "text": [
            "Model: \"sequential\"\n",
            "_________________________________________________________________\n",
            " Layer (type)                Output Shape              Param #   \n",
            "=================================================================\n",
            " dense (Dense)               (None, 50)                1100      \n",
            "                                                                 \n",
            " dense_1 (Dense)             (None, 3)                 153       \n",
            "                                                                 \n",
            "=================================================================\n",
            "Total params: 1,253\n",
            "Trainable params: 1,253\n",
            "Non-trainable params: 0\n",
            "_________________________________________________________________\n"
          ]
        }
      ]
    },
    {
      "cell_type": "code",
      "source": [
        "\n"
      ],
      "metadata": {
        "colab": {
          "base_uri": "https://localhost:8080/"
        },
        "id": "H886bK3hFOxP",
        "outputId": "f679a36b-1fea-4b46-e08f-4a2be0fbcf29"
      },
      "execution_count": null,
      "outputs": [
        {
          "output_type": "stream",
          "name": "stdout",
          "text": [
            "Model: \"sequential\"\n",
            "_________________________________________________________________\n",
            " Layer (type)                Output Shape              Param #   \n",
            "=================================================================\n",
            " dense (Dense)               (None, 50)                1100      \n",
            "                                                                 \n",
            " dense_1 (Dense)             (None, 3)                 153       \n",
            "                                                                 \n",
            "=================================================================\n",
            "Total params: 1,253\n",
            "Trainable params: 1,253\n",
            "Non-trainable params: 0\n",
            "_________________________________________________________________\n"
          ]
        }
      ]
    },
    {
      "cell_type": "markdown",
      "source": [
        "# Cargar los datos\n",
        "\n",
        "* Hay que ajustar el path a los csv de datos\n",
        "* Cambiar parámetros correspondientes si el delimitador no es una coma, o si el archivo contiene cabeceras\n",
        "* Pueden cargarse numpy arrays o dataframes, en este caso se van a utilizar arrays"
      ],
      "metadata": {
        "id": "NWNBwNCMqHK4"
      }
    },
    {
      "cell_type": "code",
      "source": [
        "path = \"path\"\n",
        "inputFilename = \"datos.csv\"\n",
        "Data_set = pd.read_csv(path+inputFilename, header='infer', delimiter=',')\n",
        "# SEPARACIÓN ENTRADA Y SALIDAA\n",
        "y_Data_set = Data_set.iloc[:,-1:]\n",
        "X_Data_set = Data_set.iloc[: , :-1]\n",
        "\n",
        "# mediante prints es posible COMPROBAR DIMENSIONES DE LOS DATOS para comprobar que todo se haya cargado correctamente\n",
        "print('Entrada(X_Data_set): ',X_Data_set.shape)\n",
        "print('Salida(y_Data_set): ',y_Data_set.shape)"
      ],
      "metadata": {
        "id": "YbdkI1YpqZtw",
        "colab": {
          "base_uri": "https://localhost:8080/"
        },
        "outputId": "c59f300c-60d6-498e-db5c-4dda3e73d96a"
      },
      "execution_count": null,
      "outputs": [
        {
          "output_type": "stream",
          "name": "stdout",
          "text": [
            "Entrada(X_Data_set):  (2126, 21)\n",
            "Salida(y_Data_set):  (2126, 1)\n"
          ]
        }
      ]
    },
    {
      "cell_type": "markdown",
      "source": [
        "# Preparación de datos y partir train-test\n",
        "Igual que en la práctica 1:\n",
        "* Normalizar\n",
        "* Aleatorización\n",
        "\n",
        "Posibles mejoras:\n",
        "* Balanceo\n",
        "* Ruido\n",
        "* Learning rate\n",
        "* Número de ciclos\n",
        "\n"
      ],
      "metadata": {
        "id": "k838ai99oD_O"
      }
    },
    {
      "cell_type": "markdown",
      "source": [
        "Despues de generar el dataset es posible guardarlo, para cargarlo en un futuro"
      ],
      "metadata": {
        "id": "NYiUmaXMs5A4"
      }
    },
    {
      "cell_type": "code",
      "source": [
        "# save to CSV file\n",
        "X_train['class'] = y_train # add the class to the file\n",
        "pd.DataFrame(np.asarray(X_train)).to_csv(path+\"train.csv\", header=Data_set.columns) # store it with the headers\n",
        "\n",
        "X_test['class'] = y_test\n",
        "pd.DataFrame(np.asarray(X_test)).to_csv(path+\"test.csv\", header=Data_set.columns)"
      ],
      "metadata": {
        "id": "MYFbgl03pXDu"
      },
      "execution_count": null,
      "outputs": []
    },
    {
      "cell_type": "code",
      "source": [
        "# Load CSV file\n",
        "train_set = pd.read_csv(path+\"train.csv\", header='infer', delimiter=',')\n",
        "test_set  = pd.read_csv(path+\"test.csv\", header='infer', delimiter=',')\n",
        "y_train = train_set.iloc[:,-1:]\n",
        "X_train = train_set.iloc[: , :-1]\n",
        "y_test  = test_set.iloc[:,-1:]\n",
        "X_test  = test_set.iloc[: , :-1]"
      ],
      "metadata": {
        "id": "FlvazfEHtEf5"
      },
      "execution_count": null,
      "outputs": []
    },
    {
      "cell_type": "code",
      "source": [],
      "metadata": {
        "colab": {
          "base_uri": "https://localhost:8080/"
        },
        "id": "NjI_vMrXEUxx",
        "outputId": "3aa8c1ef-0ba9-4c24-d144-fef1e9c7e3b0"
      },
      "execution_count": null,
      "outputs": [
        {
          "output_type": "stream",
          "name": "stdout",
          "text": [
            "[('NSP', 1)]\n",
            "[('NSP', 1)]\n"
          ]
        }
      ]
    },
    {
      "cell_type": "markdown",
      "source": [
        "# Uso de semillas para hacer los procesos aleatorios replciables entre ejecuciones"
      ],
      "metadata": {
        "id": "2xF639TPy-wk"
      }
    },
    {
      "cell_type": "code",
      "source": [
        "from numpy.random import seed\n",
        "from tensorflow.keras.utils import set_random_seed\n",
        "semilla=2023 # segun la semilla, el futuro aleatorio funcionara siempre igual\n",
        "seed(semilla)\n",
        "set_random_seed(semilla)"
      ],
      "metadata": {
        "id": "DN_kfa8iah_i"
      },
      "execution_count": null,
      "outputs": []
    },
    {
      "cell_type": "markdown",
      "source": [
        "# Comienzo código"
      ],
      "metadata": {
        "id": "M4tB78urpXuL"
      }
    },
    {
      "cell_type": "code",
      "source": [
        "# CONVERTIR TARGET A CATEGORICAL\n",
        "from sklearn.preprocessing import LabelBinarizer\n",
        "encoder = LabelBinarizer()\n",
        "y_train_transformed = encoder.fit_transform(y_train)\n",
        "y_test_transformed = encoder.fit_transform(y_test)\n",
        "print(\"Entrenamiento salida sin transformar\")\n",
        "print(y_train[:11])\n",
        "print(\"Entrenamiento salida transformada\")\n",
        "print(y_train_transformed[:11])\n",
        "# COMPROBAR DIMENSIONES DE LOS DATOS\n",
        "print(\"Entrenamiento input\")\n",
        "print(X_train.shape)\n",
        "print(\"Entrenamiento output\")\n",
        "print(y_train.shape)\n",
        "print(\"Entrenamiento output transformado\")\n",
        "print(y_train_transformed.shape)\n",
        "print(\"Test input\")\n",
        "print(X_test.shape)\n",
        "print(\"Test output\")\n",
        "print(y_test.shape)\n",
        "print(\"Test output transformado\")\n",
        "print(y_test_transformed.shape)"
      ],
      "metadata": {
        "colab": {
          "base_uri": "https://localhost:8080/"
        },
        "id": "41-fokq6XQNn",
        "outputId": "cf9f6fc2-71ab-4d3c-fa62-85d61adb0bcc"
      },
      "execution_count": null,
      "outputs": [
        {
          "output_type": "stream",
          "name": "stdout",
          "text": [
            "Entrenamiento salida sin transformar\n",
            "    NSP\n",
            "0   2.0\n",
            "1   1.0\n",
            "2   1.0\n",
            "3   1.0\n",
            "4   1.0\n",
            "5   1.0\n",
            "6   2.0\n",
            "7   1.0\n",
            "8   3.0\n",
            "9   1.0\n",
            "10  2.0\n",
            "Entrenamiento salida transformada\n",
            "[[0 1 0]\n",
            " [1 0 0]\n",
            " [1 0 0]\n",
            " [1 0 0]\n",
            " [1 0 0]\n",
            " [1 0 0]\n",
            " [0 1 0]\n",
            " [1 0 0]\n",
            " [0 0 1]\n",
            " [1 0 0]\n",
            " [0 1 0]]\n",
            "Entrenamiento input\n",
            "(1424, 22)\n",
            "Entrenamiento output\n",
            "(1424, 1)\n",
            "Entrenamiento output transformado\n",
            "(1424, 3)\n",
            "Test input\n",
            "(702, 22)\n",
            "Test output\n",
            "(702, 1)\n",
            "Test output transformado\n",
            "(702, 3)\n"
          ]
        }
      ]
    },
    {
      "cell_type": "code",
      "source": [
        "#Extraer del conjunto de train el conjunto de validación\n",
        "from sklearn.model_selection import train_test_split\n",
        "X_train2, X_Validation, y_train_transformed2, y_Validation = train_test_split(X_train, y_train_transformed, stratify=y_train_transformed, test_size=0.2)"
      ],
      "metadata": {
        "id": "49R0yOezaw5E"
      },
      "execution_count": null,
      "outputs": []
    },
    {
      "cell_type": "code",
      "source": [
        "############## Undersampling\n",
        "\n",
        "\n",
        "\n",
        "\n",
        "\n",
        "####### Oversampling\n",
        "from imblearn.over_sampling import RandomOverSampler, SMOTE, ADASYN\n",
        "ros = RandomOverSampler(random_state=0)\n",
        "X_resampled, y_resampled = ros.fit_resample(X_Validation, y_Validation)\n",
        "from collections import Counter\n",
        "\n",
        "# y_Validation\n",
        "cnt = [0, 0, 0]\n",
        "for entry in y_Validation:\n",
        "    if   np.array_equal(entry, [0, 0, 1]):\n",
        "        #print(1)\n",
        "        cnt[0] = cnt[0] + 1\n",
        "    elif np.array_equal(entry, [0, 1, 0]):\n",
        "        #print(2)\n",
        "        cnt[1] = cnt[1] + 1\n",
        "    elif np.array_equal(entry, [1, 0, 0]):\n",
        "        #print(3)\n",
        "        cnt[2] = cnt[2] + 1\n",
        "print(\"y_Validation distribution: \"+str(cnt))\n",
        "\n",
        "# y_resampled\n",
        "cnt = [0, 0, 0]\n",
        "for entry in y_resampled:\n",
        "    if   np.array_equal(entry, [0, 0, 1]):\n",
        "        #print(1)\n",
        "        cnt[0] = cnt[0] + 1\n",
        "    elif np.array_equal(entry, [0, 1, 0]):\n",
        "        #print(2)\n",
        "        cnt[1] = cnt[1] + 1\n",
        "    elif np.array_equal(entry, [1, 0, 0]):\n",
        "        #print(3)\n",
        "        cnt[2] = cnt[2] + 1\n",
        "print(\"y_resampled distribution: \"+str(cnt))"
      ],
      "metadata": {
        "colab": {
          "base_uri": "https://localhost:8080/"
        },
        "id": "burLbgRbEvGg",
        "outputId": "9aca2127-967e-4dfe-a0da-9b4358379783"
      },
      "execution_count": null,
      "outputs": [
        {
          "output_type": "stream",
          "name": "stdout",
          "text": [
            "y_Validation distribution: [23, 40, 222]\n",
            "y_resampled distribution: [222, 222, 222]\n"
          ]
        }
      ]
    },
    {
      "cell_type": "markdown",
      "source": [
        "# Criterios de parada"
      ],
      "metadata": {
        "id": "zjKgCknt1j1c"
      }
    },
    {
      "cell_type": "code",
      "source": [
        "#OPCIÓN 1\n",
        "from tensorflow.keras.callbacks import EarlyStopping\n",
        "early_stopping = EarlyStopping(\n",
        "    monitor='val_loss',\n",
        "    patience=1)\n",
        "    #min_delta=1,\n",
        "    #mode='min')\n",
        "callbacks_list=[early_stopping]"
      ],
      "metadata": {
        "id": "ApyYTkGzU_zj"
      },
      "execution_count": null,
      "outputs": []
    },
    {
      "cell_type": "code",
      "source": [
        "#OPCIÓN 2\n",
        "from keras.callbacks import ModelCheckpoint\n",
        "checkpoint = ModelCheckpoint(\n",
        "    path+'bestmodel', monitor='val_loss',\n",
        "    #mode='min',\n",
        "    verbose=1,\n",
        "    save_best_only=True)\n",
        "callbacks_list = [checkpoint]"
      ],
      "metadata": {
        "id": "9Sw8UZACUPVy"
      },
      "execution_count": null,
      "outputs": []
    },
    {
      "cell_type": "code",
      "source": [
        "# ASIGNAR PESOS Y DEFINIR UN DICCIONARIO\n",
        "peso_claseN = 1.\n",
        "peso_claseS = 5.  # Trata cada instancia de clase 1 como 5 instancias de clase 0\n",
        "peso_claseP = 10. # Trata cada instancia de clase 2 como 10 instancias de clase 0\n",
        "class_weight = { # Diccionaro de pesos\n",
        "    0: peso_claseN,\n",
        "    1: peso_claseS,\n",
        "    2: peso_claseP\n",
        "}"
      ],
      "metadata": {
        "id": "L-HAQ9wMXnSI"
      },
      "execution_count": null,
      "outputs": []
    },
    {
      "cell_type": "code",
      "source": [
        "#ASIGNAR PESOS DE MANERA AUTOMÁTICA,\n",
        "from sklearn.utils import class_weight\n",
        "\n",
        "pesos = class_weight.compute_class_weight( # total/numclasses*repeticiones de la clase\n",
        "    'balanced',\n",
        "    classes = np.unique(y_train),\n",
        "    y       = y_train.NSP.to_numpy()\n",
        ")\n",
        "print(pesos)\n",
        "\n",
        "#CREACIÓN DEL DICCIONARIO\n",
        "class_weight = {\n",
        "    0: int(pesos[0]+1),\n",
        "    1: int(pesos[1]*10),\n",
        "    2: int(pesos[2]*10)\n",
        "}\n",
        "\n",
        "print(class_weight)"
      ],
      "metadata": {
        "colab": {
          "base_uri": "https://localhost:8080/"
        },
        "id": "ivSkvmsWe1TS",
        "outputId": "ea1ca0f5-2f69-4c3a-fc18-703c7f909120"
      },
      "execution_count": null,
      "outputs": [
        {
          "output_type": "stream",
          "name": "stdout",
          "text": [
            "[0.42839952 2.3973064  4.02259887]\n",
            "{0: 1, 1: 23, 2: 40}\n"
          ]
        }
      ]
    },
    {
      "cell_type": "markdown",
      "source": [
        "# Definir el modelo de red neuronal"
      ],
      "metadata": {
        "id": "kAbj70Zquf40"
      }
    },
    {
      "cell_type": "code",
      "source": [
        "# Definir forma de la entrada de la red\n",
        "input_shape=(X_train.shape [1],) # utilizamos los datos de entrenamiento para definir la tupla\n",
        "# Definir la salida de la red, la ultima capa debera tener una neurona por cada clase\n",
        "num_clases =y_test_transformed.shape [1] # definimos el numero de clases que queremos que tenga la salida\n",
        "# imprimir información de la red\n",
        "print(num_clases)\n",
        "print(train_set.NSP.value_counts())\n",
        "print(test_set.NSP.value_counts())"
      ],
      "metadata": {
        "id": "_w0ZFatmupcu",
        "colab": {
          "base_uri": "https://localhost:8080/"
        },
        "outputId": "df206618-1021-4807-c86a-df7fc251fba1"
      },
      "execution_count": null,
      "outputs": [
        {
          "output_type": "stream",
          "name": "stdout",
          "text": [
            "3\n",
            "1.0    1108\n",
            "2.0     198\n",
            "3.0     118\n",
            "Name: NSP, dtype: int64\n",
            "1.0    547\n",
            "2.0     97\n",
            "3.0     58\n",
            "Name: NSP, dtype: int64\n"
          ]
        }
      ]
    },
    {
      "cell_type": "code",
      "source": [
        "#DEFINICIÓN DEL MODELO\n",
        "model = Sequential()\n",
        "# Capa de entrada del modelo\n",
        "model.add(Dense(50, input_shape=input_shape, activation='sigmoid'))\n",
        "# Capas intermedias del modelo\n",
        "\n",
        "# Capa de salida del modelo\n",
        "model.add(Dense(num_clases, activation='softmax'))\n",
        "model.summary()"
      ],
      "metadata": {
        "colab": {
          "base_uri": "https://localhost:8080/"
        },
        "id": "VXE75vCgoSHV",
        "outputId": "4d6934ed-9dff-4a0b-dc91-fb657c0c8d89"
      },
      "execution_count": null,
      "outputs": [
        {
          "output_type": "stream",
          "name": "stdout",
          "text": [
            "Model: \"sequential\"\n",
            "_________________________________________________________________\n",
            " Layer (type)                Output Shape              Param #   \n",
            "=================================================================\n",
            " dense (Dense)               (None, 50)                1150      \n",
            "                                                                 \n",
            " dense_1 (Dense)             (None, 3)                 153       \n",
            "                                                                 \n",
            "=================================================================\n",
            "Total params: 1,303\n",
            "Trainable params: 1,303\n",
            "Non-trainable params: 0\n",
            "_________________________________________________________________\n"
          ]
        }
      ]
    },
    {
      "cell_type": "code",
      "source": [
        "# Hiperparametros\n",
        "lr = 0.2 # razon de aprendizaje\n",
        "momento=0\n",
        "epochs = 300 # numero de ciclos que se quiere realizar en el entrenamiento\n",
        "batch_size=32\n",
        "optimizador=tf.keras.optimizers.SGD(learning_rate=0.1, momentum=momento)\n",
        "#lr=1e-3\n",
        "#optimizador=tf.keras.optimizers.Adam(learning_rate=1e-3, ),\n",
        "#rho=0.9\n",
        "#lr=0.001\n",
        "#optimizador=tf.keras.optimizers.RMSprop(learning_rate=0.001, rho=0.9),"
      ],
      "metadata": {
        "id": "sga7Jo0iB824"
      },
      "execution_count": null,
      "outputs": []
    },
    {
      "cell_type": "code",
      "source": [
        "#COMPILACIÓN DEL MODELO\n",
        "from keras.losses import binary_crossentropy\n",
        "\n",
        "model.compile(\n",
        "    optimizer=tf.keras.optimizers.SGD(learning_rate=0.1, momentum=momento),\n",
        "    #optimizer=tf.keras.optimizers.Adam(learning_rate=1e-3, ),\n",
        "    #optimizer=tf.keras.optimizers.RMSprop(learning_rate=0.001, rho=0.9),\n",
        "    loss='mean_squared_error',\n",
        "    #loss='binary_crossentropy',\n",
        "    metrics=['accuracy','mse']\n",
        ")"
      ],
      "metadata": {
        "id": "7jhKE3geXOLu"
      },
      "execution_count": null,
      "outputs": []
    },
    {
      "cell_type": "code",
      "source": [
        "#ENTRENAMIENTO DEL MODELO\n",
        "opcion=2\n",
        "if opcion==1:\n",
        "  callbacks_list=[early_stopping]\n",
        "\n",
        "historico = model.fit(X_train2, y_train_transformed2,\n",
        "                      epochs=100, batch_size=1, verbose=1, validation_data=(X_Validation,y_Validation), shuffle=False,\n",
        "                      callbacks=callbacks_list,\n",
        "                      class_weight=class_weight)"
      ],
      "metadata": {
        "id": "Me9IWAq5MXHT"
      },
      "execution_count": null,
      "outputs": []
    },
    {
      "cell_type": "markdown",
      "source": [
        "# Análisis"
      ],
      "metadata": {
        "id": "2MeciwQ-3Qqh"
      }
    },
    {
      "cell_type": "code",
      "source": [
        "#GUARDAR RESULTADOS Y MODELOS EN FICHEROS\n",
        "#CUANDO SE UTILIZA CHECKPOINT, YA ESTÁ GUARDADO EL MODELO\n",
        "#CUANDO SE UTILIZA EARLY_STOPING, REALEMNTE EL MODELO YA ESTÁ EN \"MODEL\", PERO SI SE QUIERE GUARDAR EN FICHERO SE DEBE UTILIZAR MODEL.SAVE\n",
        "\n",
        "np.savetxt(path+'historicoTrainLoss.txt',historico.history['loss'])\n",
        "np.savetxt(path+'historicoValLoss.txt',historico.history['val_loss'])\n",
        "np.savetxt(path+'historicoTrainAcc.txt',historico.history['accuracy'])\n",
        "np.savetxt(path+'historicoValAcc.txt',historico.history['val_accuracy'])\n",
        "\n",
        "if opcion==1:\n",
        "    model.save(path+'model_early_stoping')"
      ],
      "metadata": {
        "id": "_kuzSqq9jeBp"
      },
      "execution_count": null,
      "outputs": []
    },
    {
      "cell_type": "code",
      "source": [
        "#LOSS Y ACCURACY DE TRAIN Y VALIDACIÓN CUANDO SE UTILIZA EARLY_STOPPING\n",
        "final_epoch = len(historico.history['loss'])\n",
        "print(historico.history['loss'][final_epoch-1])\n",
        "print(historico.history['val_loss'][final_epoch-1])\n",
        "print(historico.history['accuracy'][final_epoch-1])\n",
        "print(historico.history['val_accuracy'][final_epoch-1])"
      ],
      "metadata": {
        "id": "JAnDMwdMiP-O",
        "colab": {
          "base_uri": "https://localhost:8080/"
        },
        "outputId": "c0163bcb-78ef-4310-ed36-7d60ed07c1cc"
      },
      "execution_count": null,
      "outputs": [
        {
          "output_type": "stream",
          "name": "stdout",
          "text": [
            "2.6456000804901123\n",
            "0.6128659248352051\n",
            "0.08340650051832199\n",
            "0.08070175349712372\n"
          ]
        }
      ]
    },
    {
      "cell_type": "code",
      "source": [
        "#MEJOR ÉPOCA, LOSS Y ACCURACY DE TRAIN Y VALIDACIÓN CUANDO SE UTILIZA CHECKPOINT\n",
        "epochs_stop = np.where(historico.history['val_loss'] == np.min(historico.history['val_loss']))\n",
        "final_epoch = epochs_stop[0][0]\n",
        "print(final_epoch)\n",
        "print(historico.history['loss'][final_epoch-1])\n",
        "print(historico.history['val_loss'][final_epoch-1])\n",
        "print(historico.history['accuracy'][final_epoch-1])\n",
        "print(historico.history['val_accuracy'][final_epoch-1])"
      ],
      "metadata": {
        "id": "4N4cPdRcZuVG",
        "colab": {
          "base_uri": "https://localhost:8080/"
        },
        "outputId": "26d2df1a-6e0f-4a7f-d813-0001a423e43a"
      },
      "execution_count": null,
      "outputs": [
        {
          "output_type": "stream",
          "name": "stdout",
          "text": [
            "0\n",
            "2.6456000804901123\n",
            "0.6128659248352051\n",
            "0.08340650051832199\n",
            "0.08070175349712372\n"
          ]
        }
      ]
    },
    {
      "cell_type": "code",
      "source": [
        "## plots de evolución de loss y accuracy\n",
        "from matplotlib import pyplot as plt\n",
        "plt.plot(historico.history['accuracy'])\n",
        "plt.plot(historico.history['val_accuracy'])\n",
        "plt.title('model accuracy')\n",
        "plt.ylabel('accuracy')\n",
        "plt.xlabel('epoch')\n",
        "plt.legend(['train', 'val'], loc='upper left')\n",
        "plt.show()\n",
        "\n",
        "plt.plot(historico.history['loss'])\n",
        "plt.plot(historico.history['val_loss'])\n",
        "plt.title('model loss')\n",
        "plt.ylabel('loss')\n",
        "plt.xlabel('epoch')\n",
        "plt.legend(['train', 'val'], loc='upper left')\n",
        "plt.show()"
      ],
      "metadata": {
        "colab": {
          "base_uri": "https://localhost:8080/",
          "height": 573
        },
        "id": "BxDjdKQWXEQC",
        "outputId": "b2edd8e2-9b54-499f-fe9c-8e909f1cea65"
      },
      "execution_count": null,
      "outputs": [
        {
          "output_type": "display_data",
          "data": {
            "text/plain": [
              "<Figure size 432x288 with 1 Axes>"
            ],
            "image/png": "[encoded data removed]"
          },
          "metadata": {
            "needs_background": "light"
          }
        },
        {
          "output_type": "display_data",
          "data": {
            "text/plain": [
              "<Figure size 432x288 with 1 Axes>"
            ],
            "image/png": "[encoded data removed]"
          },
          "metadata": {
            "needs_background": "light"
          }
        }
      ]
    },
    {
      "cell_type": "markdown",
      "source": [
        "# Modelo final"
      ],
      "metadata": {
        "id": "EQ7zbK7G3U4V"
      }
    },
    {
      "cell_type": "code",
      "source": [
        "# DEFINIR Y ENTRENAR EL MODELO DEFINITIVO, CON LOS MEJORES HIPERPARÁMETROS\n",
        "# ejemplo:\n",
        "num_neuronas = 50\n",
        "lr           = 0.1\n",
        "momento      = 0\n",
        "epochs       = 40\n",
        "class_weight = {\n",
        "    0: 1.,\n",
        "    1: 5.,\n",
        "    2: 10.\n",
        "}\n",
        "\n",
        "#definir modelo\n",
        "final_model = Sequential()\n",
        "final_model.add(Dense(num_neuronas, input_shape=input_shape, activation='sigmoid'))\n",
        "final_model.add(Dense(num_clases, activation='softmax'))\n",
        "\n",
        "#COMPILAR\n",
        "final_model.compile(\n",
        "    optimizer=tf.keras.optimizers.SGD(learning_rate=lr, momentum=momento),\n",
        "    #optimizer=tf.keras.optimizers.Adam(learning_rate=1e-3, ),\n",
        "    #optimizer=tf.keras.optimizers.RMSprop(learning_rate=0.001, rho=0.9),\n",
        "    loss='mean_squared_error',\n",
        "    #loss='binary_crossentropy',\n",
        "    metrics=['accuracy','mse', 'binary_crossentropy']\n",
        ")\n",
        "\n",
        "#ENTRENAR\n",
        "historico=final_model.fit(\n",
        "    X_train, y_train_transformed, epochs=epochs,\n",
        "    batch_size=1, verbose=1, validation_split=0, shuffle=False, class_weight=class_weight\n",
        ")"
      ],
      "metadata": {
        "id": "NWDm5Wj0jAov",
        "colab": {
          "base_uri": "https://localhost:8080/"
        },
        "outputId": "a07aefb4-86bb-4ba3-cc44-1d8734a2b69d"
      },
      "execution_count": null,
      "outputs": [
        {
          "output_type": "stream",
          "name": "stdout",
          "text": [
            "Epoch 1/40\n",
            "1424/1424 [==============================] - 4s 2ms/step - loss: 0.9413 - accuracy: 0.1447 - mse: 0.5533 - binary_crossentropy: 2.3188\n",
            "Epoch 2/40\n",
            "1424/1424 [==============================] - 3s 2ms/step - loss: 0.9543 - accuracy: 0.1018 - mse: 0.5809 - binary_crossentropy: 2.2363\n",
            "Epoch 3/40\n",
            "1424/1424 [==============================] - 3s 2ms/step - loss: 0.9036 - accuracy: 0.1721 - mse: 0.5066 - binary_crossentropy: 1.8337\n",
            "Epoch 4/40\n",
            "1424/1424 [==============================] - 3s 2ms/step - loss: 0.9775 - accuracy: 0.0899 - mse: 0.5944 - binary_crossentropy: 2.2998\n",
            "Epoch 5/40\n",
            "1424/1424 [==============================] - 3s 2ms/step - loss: 0.8972 - accuracy: 0.1531 - mse: 0.5074 - binary_crossentropy: 1.6608\n",
            "Epoch 6/40\n",
            "1424/1424 [==============================] - 3s 2ms/step - loss: 0.8512 - accuracy: 0.2029 - mse: 0.4406 - binary_crossentropy: 1.2838\n",
            "Epoch 7/40\n",
            "1424/1424 [==============================] - 3s 2ms/step - loss: 0.8343 - accuracy: 0.2247 - mse: 0.4249 - binary_crossentropy: 1.2356\n",
            "Epoch 8/40\n",
            "1424/1424 [==============================] - 3s 2ms/step - loss: 0.7969 - accuracy: 0.2662 - mse: 0.3889 - binary_crossentropy: 1.0776\n",
            "Epoch 9/40\n",
            "1424/1424 [==============================] - 3s 2ms/step - loss: 0.8150 - accuracy: 0.2367 - mse: 0.4025 - binary_crossentropy: 1.1137\n",
            "Epoch 10/40\n",
            "1424/1424 [==============================] - 3s 2ms/step - loss: 0.7411 - accuracy: 0.3069 - mse: 0.3338 - binary_crossentropy: 0.9117\n",
            "Epoch 11/40\n",
            "1424/1424 [==============================] - 3s 2ms/step - loss: 0.7154 - accuracy: 0.3244 - mse: 0.3076 - binary_crossentropy: 0.8283\n",
            "Epoch 12/40\n",
            "1424/1424 [==============================] - 3s 2ms/step - loss: 0.6772 - accuracy: 0.3378 - mse: 0.2854 - binary_crossentropy: 0.8348\n",
            "Epoch 13/40\n",
            "1424/1424 [==============================] - 3s 2ms/step - loss: 0.6452 - accuracy: 0.3518 - mse: 0.2677 - binary_crossentropy: 0.7768\n",
            "Epoch 14/40\n",
            "1424/1424 [==============================] - 3s 2ms/step - loss: 0.6169 - accuracy: 0.3497 - mse: 0.2543 - binary_crossentropy: 0.7586\n",
            "Epoch 15/40\n",
            "1424/1424 [==============================] - 3s 2ms/step - loss: 0.6040 - accuracy: 0.3420 - mse: 0.2488 - binary_crossentropy: 0.7583\n",
            "Epoch 16/40\n",
            "1424/1424 [==============================] - 3s 2ms/step - loss: 0.6024 - accuracy: 0.3413 - mse: 0.2484 - binary_crossentropy: 0.7582\n",
            "Epoch 17/40\n",
            "1424/1424 [==============================] - 3s 2ms/step - loss: 0.6023 - accuracy: 0.3413 - mse: 0.2484 - binary_crossentropy: 0.7581\n",
            "Epoch 18/40\n",
            "1424/1424 [==============================] - 3s 2ms/step - loss: 0.5773 - accuracy: 0.3357 - mse: 0.2396 - binary_crossentropy: 0.7217\n",
            "Epoch 19/40\n",
            "1424/1424 [==============================] - 3s 2ms/step - loss: 0.5636 - accuracy: 0.3329 - mse: 0.2351 - binary_crossentropy: 0.7043\n",
            "Epoch 20/40\n",
            "1424/1424 [==============================] - 3s 2ms/step - loss: 0.5630 - accuracy: 0.3329 - mse: 0.2350 - binary_crossentropy: 0.7038\n",
            "Epoch 21/40\n",
            "1424/1424 [==============================] - 3s 2ms/step - loss: 0.5630 - accuracy: 0.3329 - mse: 0.2350 - binary_crossentropy: 0.7038\n",
            "Epoch 22/40\n",
            "1424/1424 [==============================] - 3s 2ms/step - loss: 0.5630 - accuracy: 0.3336 - mse: 0.2350 - binary_crossentropy: 0.7038\n",
            "Epoch 23/40\n",
            "1424/1424 [==============================] - 3s 2ms/step - loss: 0.5629 - accuracy: 0.3336 - mse: 0.2350 - binary_crossentropy: 0.7038\n",
            "Epoch 24/40\n",
            "1424/1424 [==============================] - 3s 2ms/step - loss: 0.5377 - accuracy: 0.3294 - mse: 0.2286 - binary_crossentropy: 0.6939\n",
            "Epoch 25/40\n",
            "1424/1424 [==============================] - 3s 2ms/step - loss: 0.5370 - accuracy: 0.3308 - mse: 0.2281 - binary_crossentropy: 0.6933\n",
            "Epoch 26/40\n",
            "1424/1424 [==============================] - 3s 2ms/step - loss: 0.5369 - accuracy: 0.3308 - mse: 0.2281 - binary_crossentropy: 0.6934\n",
            "Epoch 27/40\n",
            "1424/1424 [==============================] - 3s 2ms/step - loss: 0.5369 - accuracy: 0.3315 - mse: 0.2281 - binary_crossentropy: 0.6934\n",
            "Epoch 28/40\n",
            "1424/1424 [==============================] - 3s 2ms/step - loss: 0.5369 - accuracy: 0.3315 - mse: 0.2281 - binary_crossentropy: 0.6934\n",
            "Epoch 29/40\n",
            "1424/1424 [==============================] - 3s 2ms/step - loss: 0.5369 - accuracy: 0.3308 - mse: 0.2282 - binary_crossentropy: 0.6934\n",
            "Epoch 30/40\n",
            "1424/1424 [==============================] - 3s 2ms/step - loss: 0.5369 - accuracy: 0.3308 - mse: 0.2282 - binary_crossentropy: 0.6934\n",
            "Epoch 31/40\n",
            "1424/1424 [==============================] - 3s 2ms/step - loss: 0.5369 - accuracy: 0.3308 - mse: 0.2282 - binary_crossentropy: 0.6934\n",
            "Epoch 32/40\n",
            "1424/1424 [==============================] - 3s 2ms/step - loss: 0.5369 - accuracy: 0.3315 - mse: 0.2281 - binary_crossentropy: 0.6934\n",
            "Epoch 33/40\n",
            "1424/1424 [==============================] - 3s 2ms/step - loss: 0.5369 - accuracy: 0.3308 - mse: 0.2281 - binary_crossentropy: 0.6934\n",
            "Epoch 34/40\n",
            "1424/1424 [==============================] - 3s 2ms/step - loss: 0.5369 - accuracy: 0.3308 - mse: 0.2281 - binary_crossentropy: 0.6934\n",
            "Epoch 35/40\n",
            "1424/1424 [==============================] - 3s 2ms/step - loss: 0.5369 - accuracy: 0.3308 - mse: 0.2281 - binary_crossentropy: 0.6933\n",
            "Epoch 36/40\n",
            "1424/1424 [==============================] - 3s 2ms/step - loss: 0.5369 - accuracy: 0.3308 - mse: 0.2281 - binary_crossentropy: 0.6933\n",
            "Epoch 37/40\n",
            "1424/1424 [==============================] - 3s 2ms/step - loss: 0.5369 - accuracy: 0.3308 - mse: 0.2281 - binary_crossentropy: 0.6933\n",
            "Epoch 38/40\n",
            "1424/1424 [==============================] - 3s 2ms/step - loss: 0.5369 - accuracy: 0.3315 - mse: 0.2281 - binary_crossentropy: 0.6933\n",
            "Epoch 39/40\n",
            "1424/1424 [==============================] - 3s 2ms/step - loss: 0.5369 - accuracy: 0.3315 - mse: 0.2281 - binary_crossentropy: 0.6933\n",
            "Epoch 40/40\n",
            "1424/1424 [==============================] - 4s 3ms/step - loss: 0.5369 - accuracy: 0.3315 - mse: 0.2281 - binary_crossentropy: 0.6933\n"
          ]
        }
      ]
    },
    {
      "cell_type": "code",
      "source": [
        "## plots de evolución de loss y accuracy\n",
        "from matplotlib import pyplot as plt\n",
        "plt.plot(historico.history['accuracy'])\n",
        "plt.title('model accuracy')\n",
        "plt.ylabel('accuracy')\n",
        "plt.xlabel('epoch')\n",
        "plt.legend(['train'], loc='upper left')\n",
        "plt.show()\n",
        "\n",
        "plt.plot(historico.history['loss'])\n",
        "plt.title('model loss')\n",
        "plt.ylabel('loss')\n",
        "plt.xlabel('epoch')\n",
        "plt.legend(['train'], loc='upper left')\n",
        "plt.show()"
      ],
      "metadata": {
        "id": "cm_ObGvVshlp",
        "colab": {
          "base_uri": "https://localhost:8080/",
          "height": 573
        },
        "outputId": "93276bdd-a88c-4df3-c63e-35f3dce6c302"
      },
      "execution_count": null,
      "outputs": [
        {
          "output_type": "display_data",
          "data": {
            "text/plain": [
              "<Figure size 432x288 with 1 Axes>"
            ],
            "image/png": "[encoded data removed]"
          },
          "metadata": {
            "needs_background": "light"
          }
        },
        {
          "output_type": "display_data",
          "data": {
            "text/plain": [
              "<Figure size 432x288 with 1 Axes>"
            ],
            "image/png": "[encoded data removed]"
          },
          "metadata": {
            "needs_background": "light"
          }
        }
      ]
    },
    {
      "cell_type": "code",
      "source": [
        "# EVALUAR MODELO\n",
        "train_results = final_model.evaluate(X_train, y_train_transformed, verbose=1)\n",
        "test_results = final_model.evaluate(X_test, y_test_transformed, verbose=1)\n",
        "\n",
        "#EL INDICE 0 ES EL LOSS, EL RESTO LAS MÉTRICAS DEFINADAS ARRIBA. EN EST CASO 'accuracy':1,'mse':2\n",
        "print(f'Train results - Loss: {train_results[0]} - Accuracy: {train_results[1]} - MSE: {train_results[2]} ')\n",
        "print(f'Test results  - Loss: {test_results[0]}  - Accuracy: {test_results[1]} - MSE: {test_results[2]} ')"
      ],
      "metadata": {
        "id": "wSaDTPoKkQzw",
        "colab": {
          "base_uri": "https://localhost:8080/"
        },
        "outputId": "97310d8e-174d-4dfb-b32e-785d25ac0ed4"
      },
      "execution_count": null,
      "outputs": [
        {
          "output_type": "stream",
          "name": "stdout",
          "text": [
            "45/45 [==============================] - 0s 2ms/step - loss: 0.1803 - accuracy: 0.7718 - mse: 0.1803 - binary_crossentropy: 0.6269\n",
            "22/22 [==============================] - 0s 2ms/step - loss: 0.1813 - accuracy: 0.7607 - mse: 0.1813 - binary_crossentropy: 0.6285\n",
            "Train results - Loss: 0.1803152710199356 - Accuracy: 0.771769642829895 - MSE: 0.1803152710199356 \n",
            "Test results  - Loss: 0.1812891960144043  - Accuracy: 0.7606837749481201 - MSE: 0.1812891960144043 \n"
          ]
        }
      ]
    },
    {
      "cell_type": "code",
      "source": [
        "# PREDICCIONES EN BRUTO\n",
        "raw_testPred = final_model.predict(X_test)\n",
        "#prediccion de los 5 primeros patrones de test: 5 vectores con valores reales\n",
        "print(raw_testPred[:5])\n",
        "\n",
        "# PREDICCIONES DE LAS CLASES\n",
        "testPred = np.argmax(raw_testPred, axis=1)\n",
        "#transformar el núm de col en la etiqueta\n",
        "class_testPred = encoder.classes_[testPred]\n",
        "print(class_testPred[:5])\n",
        "\n",
        "#MATRIZ DE CONFUSIÓN Y OTRAS MÉTRICAS COMO RECALL\n",
        "cm=confusion_matrix(y_test, class_testPred)\n",
        "print(cm)\n",
        "print('Classification Report')\n",
        "print(classification_report(y_test, class_testPred))"
      ],
      "metadata": {
        "id": "MO8pRjSRhi87",
        "colab": {
          "base_uri": "https://localhost:8080/"
        },
        "outputId": "975fc6c8-3dc5-4407-ead0-38dd5b5e4e42"
      },
      "execution_count": null,
      "outputs": [
        {
          "output_type": "stream",
          "name": "stdout",
          "text": [
            "22/22 [==============================] - 0s 2ms/step\n",
            "[[0.17915618 0.7614531  0.05939076]\n",
            " [0.25435612 0.6396842  0.10595976]\n",
            " [0.2773513  0.5538185  0.16883011]\n",
            " [0.3014851  0.47276515 0.22574973]\n",
            " [0.3243039  0.41326642 0.26242954]]\n",
            "[2. 2. 2. 2. 2.]\n",
            "[[532  15   0]\n",
            " [ 95   2   0]\n",
            " [ 57   1   0]]\n",
            "Classification Report\n",
            "              precision    recall  f1-score   support\n",
            "\n",
            "         1.0       0.78      0.97      0.86       547\n",
            "         2.0       0.11      0.02      0.03        97\n",
            "         3.0       0.00      0.00      0.00        58\n",
            "\n",
            "    accuracy                           0.76       702\n",
            "   macro avg       0.30      0.33      0.30       702\n",
            "weighted avg       0.62      0.76      0.68       702\n",
            "\n"
          ]
        },
        {
          "output_type": "stream",
          "name": "stderr",
          "text": [
            "/usr/local/lib/python3.7/dist-packages/sklearn/metrics/_classification.py:1318: UndefinedMetricWarning: Precision and F-score are ill-defined and being set to 0.0 in labels with no predicted samples. Use `zero_division` parameter to control this behavior.\n",
            "  _warn_prf(average, modifier, msg_start, len(result))\n",
            "/usr/local/lib/python3.7/dist-packages/sklearn/metrics/_classification.py:1318: UndefinedMetricWarning: Precision and F-score are ill-defined and being set to 0.0 in labels with no predicted samples. Use `zero_division` parameter to control this behavior.\n",
            "  _warn_prf(average, modifier, msg_start, len(result))\n",
            "/usr/local/lib/python3.7/dist-packages/sklearn/metrics/_classification.py:1318: UndefinedMetricWarning: Precision and F-score are ill-defined and being set to 0.0 in labels with no predicted samples. Use `zero_division` parameter to control this behavior.\n",
            "  _warn_prf(average, modifier, msg_start, len(result))\n"
          ]
        }
      ]
    },
    {
      "cell_type": "markdown",
      "source": [
        "# Modelo final"
      ],
      "metadata": {
        "id": "EtLNIqfE60cO"
      }
    },
    {
      "cell_type": "code",
      "source": [],
      "metadata": {
        "id": "C0L1Q76p60OC"
      },
      "execution_count": null,
      "outputs": []
    }
  ]
}